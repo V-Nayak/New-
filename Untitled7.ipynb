{
  "nbformat": 4,
  "nbformat_minor": 0,
  "metadata": {
    "colab": {
      "provenance": [],
      "authorship_tag": "ABX9TyPbKBv+D8CR7XxJ1Q949XjH",
      "include_colab_link": true
    },
    "kernelspec": {
      "name": "python3",
      "display_name": "Python 3"
    },
    "language_info": {
      "name": "python"
    }
  },
  "cells": [
    {
      "cell_type": "markdown",
      "metadata": {
        "id": "view-in-github",
        "colab_type": "text"
      },
      "source": [
        "<a href=\"https://colab.research.google.com/github/V-Nayak/New-/blob/main/Untitled7.ipynb\" target=\"_parent\"><img src=\"https://colab.research.google.com/assets/colab-badge.svg\" alt=\"Open In Colab\"/></a>"
      ]
    },
    {
      "cell_type": "markdown",
      "source": [
        "Question 1\n",
        "Level 1\n",
        "\n",
        "Question: Write a program which will find all such numbers which are divisible by 8 and multiple of 5, between 3000 and 5000 (both included). After finding those it should diplay the count which lies in between 4000 and 4500 including both these numbers.\n",
        "Hints: Consider use range(#begin, #end) method\n",
        "\n",
        "Solution:\n"
      ],
      "metadata": {
        "id": "gkoMP7DlITzE"
      }
    },
    {
      "cell_type": "code",
      "source": [
        "l=[]; m=[]\n",
        "for i in range(3000 ,5000):\n",
        "  if (i%8== 0) and (i%5== 0):\n",
        "    l.append(i)\n",
        "for i in range(len(l)):\n",
        "   if (l[i]>= 4000) and (l[i]<= 4500):\n",
        "      m.append(i)\n",
        "\n",
        "print(len(m))"
      ],
      "metadata": {
        "colab": {
          "base_uri": "https://localhost:8080/"
        },
        "id": "awTS5DInIZUH",
        "outputId": "798c7e57-491f-4f9a-edfa-a010cb22120d"
      },
      "execution_count": 23,
      "outputs": [
        {
          "output_type": "stream",
          "name": "stdout",
          "text": [
            "13\n"
          ]
        }
      ]
    },
    {
      "cell_type": "code",
      "source": [],
      "metadata": {
        "id": "6zXXillj0aaA"
      },
      "execution_count": null,
      "outputs": []
    }
  ]
}