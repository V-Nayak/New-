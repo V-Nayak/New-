{
  "nbformat": 4,
  "nbformat_minor": 0,
  "metadata": {
    "colab": {
      "provenance": [],
      "authorship_tag": "ABX9TyPdX53/O/CzVVAcQ01PTqBX",
      "include_colab_link": true
    },
    "kernelspec": {
      "name": "python3",
      "display_name": "Python 3"
    },
    "language_info": {
      "name": "python"
    }
  },
  "cells": [
    {
      "cell_type": "markdown",
      "metadata": {
        "id": "view-in-github",
        "colab_type": "text"
      },
      "source": [
        "<a href=\"https://colab.research.google.com/github/V-Nayak/New-/blob/main/Untitled7.ipynb\" target=\"_parent\"><img src=\"https://colab.research.google.com/assets/colab-badge.svg\" alt=\"Open In Colab\"/></a>"
      ]
    },
    {
      "cell_type": "markdown",
      "source": [
        "Question 1\n",
        "Level 1\n",
        "\n",
        "Question: Write a program which will find all such numbers which are divisible by 8 and multiple of 5, between 300 and 500 (both included). The numbers obtained should be printed in a comma-separated sequence on a single line.\n",
        "\n",
        "Hints: Consider use range(#begin, #end) method\n",
        "\n",
        "Solution:\n"
      ],
      "metadata": {
        "id": "gkoMP7DlITzE"
      }
    },
    {
      "cell_type": "code",
      "source": [
        "l=[]\n",
        "for i in range(300 ,500):\n",
        "  if (i%8== 0) and (i%5== 0):\n",
        "    l.append(i)\n",
        "\n",
        "print(l)\n",
        "print(len(l))\n",
        "m=[]\n",
        "\n",
        "#len(l)= i\n",
        "#for i in range:\n",
        "# if (i>= 400) and (i<= 450):\n",
        "#    m.append(i)\n",
        "\n",
        "# print(len(m))"
      ],
      "metadata": {
        "colab": {
          "base_uri": "https://localhost:8080/"
        },
        "id": "awTS5DInIZUH",
        "outputId": "77c7ea79-979c-4274-bbec-e9b75db69ebd"
      },
      "execution_count": 9,
      "outputs": [
        {
          "output_type": "stream",
          "name": "stdout",
          "text": [
            "[320, 360, 400, 440, 480]\n",
            "5\n"
          ]
        }
      ]
    },
    {
      "cell_type": "code",
      "source": [],
      "metadata": {
        "id": "6zXXillj0aaA"
      },
      "execution_count": null,
      "outputs": []
    }
  ]
}