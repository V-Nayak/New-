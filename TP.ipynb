{
  "nbformat": 4,
  "nbformat_minor": 0,
  "metadata": {
    "colab": {
      "provenance": [],
      "mount_file_id": "1Z84IZ86DBv1lw0MLPYXuEVIDoM3ZM8Iz",
      "authorship_tag": "ABX9TyNdXLMkSve2hZGrOADMhcYF",
      "include_colab_link": true
    },
    "kernelspec": {
      "name": "python3",
      "display_name": "Python 3"
    },
    "language_info": {
      "name": "python"
    }
  },
  "cells": [
    {
      "cell_type": "markdown",
      "metadata": {
        "id": "view-in-github",
        "colab_type": "text"
      },
      "source": [
        "<a href=\"https://colab.research.google.com/github/V-Nayak/New-/blob/main/TP.ipynb\" target=\"_parent\"><img src=\"https://colab.research.google.com/assets/colab-badge.svg\" alt=\"Open In Colab\"/></a>"
      ]
    },
    {
      "cell_type": "code",
      "execution_count": 6,
      "metadata": {
        "colab": {
          "base_uri": "https://localhost:8080/"
        },
        "id": "nqwMLGMfthVE",
        "outputId": "66044ccc-0fdb-4369-feb6-7568218d3ac7"
      },
      "outputs": [
        {
          "output_type": "stream",
          "name": "stdout",
          "text": [
            "   PassengerId  Survived  Pclass                              Name     Sex  \\\n",
            "0          892         0       3                  Kelly, Mr. James    male   \n",
            "1          893         1       3  Wilkes, Mrs. James (Ellen Needs)  female   \n",
            "\n",
            "    Age  SibSp  Parch  Ticket    Fare Cabin Embarked  \n",
            "0  34.5      0      0  330911  7.8292   NaN        Q  \n",
            "1  47.0      1      0  363272  7.0000   NaN        S  \n"
          ]
        }
      ],
      "source": [
        "import pandas as pd\n",
        "\n",
        "df=pd.read_csv(\"/survived.csv\")\n",
        "\n",
        "print(df.head(2))"
      ]
    }
  ]
}