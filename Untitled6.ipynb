{
  "nbformat": 4,
  "nbformat_minor": 0,
  "metadata": {
    "colab": {
      "provenance": [],
      "authorship_tag": "ABX9TyNfeH67viKhb/eygTxwXsoL",
      "include_colab_link": true
    },
    "kernelspec": {
      "name": "python3",
      "display_name": "Python 3"
    },
    "language_info": {
      "name": "python"
    }
  },
  "cells": [
    {
      "cell_type": "markdown",
      "metadata": {
        "id": "view-in-github",
        "colab_type": "text"
      },
      "source": [
        "<a href=\"https://colab.research.google.com/github/V-Nayak/New-/blob/main/Untitled6.ipynb\" target=\"_parent\"><img src=\"https://colab.research.google.com/assets/colab-badge.svg\" alt=\"Open In Colab\"/></a>"
      ]
    },
    {
      "cell_type": "code",
      "execution_count": null,
      "metadata": {
        "colab": {
          "base_uri": "https://localhost:8080/"
        },
        "id": "ikwMaqyYUVwj",
        "outputId": "738d6f06-bfe3-4dfa-d22f-ff20e0145cd9"
      },
      "outputs": [
        {
          "output_type": "stream",
          "name": "stdout",
          "text": [
            "16\n"
          ]
        }
      ],
      "source": [
        "#finding second highest number in list\n",
        "list_1=[4,5,9,15,25,25,16,6,7]\n",
        "set_1= set(list_1)\n",
        "#for i in the list_1:\n",
        " # i\n",
        "list_=list(set_1)\n",
        "print(list_[len(list_)-2])\n",
        "\n"
      ]
    },
    {
      "cell_type": "code",
      "source": [
        "print(list(set(list_1))[-2])\n"
      ],
      "metadata": {
        "colab": {
          "base_uri": "https://localhost:8080/"
        },
        "id": "BCoPtjUUXhAu",
        "outputId": "b7c47263-d77f-44da-ff52-f57901f45161"
      },
      "execution_count": null,
      "outputs": [
        {
          "output_type": "stream",
          "name": "stdout",
          "text": [
            "16\n"
          ]
        }
      ]
    },
    {
      "cell_type": "code",
      "source": [
        "#REverse the number\n",
        "n = 56782\n",
        "string = str(n)\n",
        "print(string[::-1])\n"
      ],
      "metadata": {
        "colab": {
          "base_uri": "https://localhost:8080/"
        },
        "id": "smPHKaRfXSKn",
        "outputId": "35c0f380-b4cf-4b11-96c6-4226ad08b0e0"
      },
      "execution_count": null,
      "outputs": [
        {
          "output_type": "stream",
          "name": "stdout",
          "text": [
            "28765\n"
          ]
        }
      ]
    },
    {
      "cell_type": "code",
      "source": [
        "n = 14568\n",
        "while :\n",
        "x= n%10\n",
        "o= n//10\n",
        "y =o%10\n",
        "p= o//10\n",
        "z= p%10\n",
        "q= p//10\n",
        "a= q%10\n",
        "r=q//10\n",
        "\n",
        "print(x,y,z,a,r)"
      ],
      "metadata": {
        "colab": {
          "base_uri": "https://localhost:8080/"
        },
        "id": "5W2SsxdmZaAS",
        "outputId": "95fc14c1-d8fb-4f75-b8f1-abea97d7411f"
      },
      "execution_count": null,
      "outputs": [
        {
          "output_type": "stream",
          "name": "stdout",
          "text": [
            "80 6 5 4 1\n"
          ]
        }
      ]
    },
    {
      "cell_type": "code",
      "source": [
        "def Solve(N, K):\n",
        "    result = [0] * K\n",
        "    i = 0\n",
        "    while N > 0:\n",
        "        for j in range(K):\n",
        "            if N <= 0:\n",
        "                break\n",
        "            result[j] += i + 1\n",
        "            N -= 1\n",
        "            i += 1\n",
        "        i = 0\n",
        "    return result\n",
        "\n",
        "# Example usage:\n",
        "N = 10\n",
        "K = 5\n",
        "output = Solve(N, K)\n",
        "print(' '.join(map(str,output))"
      ],
      "metadata": {
        "id": "yyJb8LaUcPEo",
        "colab": {
          "base_uri": "https://localhost:8080/",
          "height": 106
        },
        "outputId": "83b2601a-be43-412d-ce78-29a4b8fc107f"
      },
      "execution_count": 2,
      "outputs": [
        {
          "output_type": "error",
          "ename": "SyntaxError",
          "evalue": "incomplete input (<ipython-input-2-7d47b65fa25c>, line 18)",
          "traceback": [
            "\u001b[0;36m  File \u001b[0;32m\"<ipython-input-2-7d47b65fa25c>\"\u001b[0;36m, line \u001b[0;32m18\u001b[0m\n\u001b[0;31m    print(' '.join(map(str,output))\u001b[0m\n\u001b[0m                                   ^\u001b[0m\n\u001b[0;31mSyntaxError\u001b[0m\u001b[0;31m:\u001b[0m incomplete input\n"
          ]
        }
      ]
    },
    {
      "cell_type": "code",
      "source": [
        "def Solve(N, K):\n",
        "    result = [0] * K\n",
        "    i = 0\n",
        "    while N > 0:\n",
        "        for j in range(K):\n",
        "            if N <= 0:\n",
        "                break\n",
        "            result[j] += i + 1\n",
        "            N -= 1\n",
        "            i += 1\n",
        "        i = 0\n",
        "    return result\n",
        "\n",
        "# Example usage:\n",
        "N = 10\n",
        "K = 5\n",
        "output = Solve(N, K)\n",
        "print(' '.join(map(str, output)))\n"
      ],
      "metadata": {
        "colab": {
          "base_uri": "https://localhost:8080/"
        },
        "id": "ZYpN0wUhEFaL",
        "outputId": "9f7d7973-627a-4e5b-d8f1-4213a1d2751e"
      },
      "execution_count": 3,
      "outputs": [
        {
          "output_type": "stream",
          "name": "stdout",
          "text": [
            "2 4 6 8 10\n"
          ]
        }
      ]
    }
  ]
}