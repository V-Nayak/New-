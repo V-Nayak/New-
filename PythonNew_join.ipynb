{
  "nbformat": 4,
  "nbformat_minor": 0,
  "metadata": {
    "colab": {
      "provenance": [],
      "authorship_tag": "ABX9TyMoH22Hv/Fh3pV/s8Hsd6GA",
      "include_colab_link": true
    },
    "kernelspec": {
      "name": "python3",
      "display_name": "Python 3"
    },
    "language_info": {
      "name": "python"
    }
  },
  "cells": [
    {
      "cell_type": "markdown",
      "metadata": {
        "id": "view-in-github",
        "colab_type": "text"
      },
      "source": [
        "<a href=\"https://colab.research.google.com/github/V-Nayak/New-/blob/main/PythonNew_join.ipynb\" target=\"_parent\"><img src=\"https://colab.research.google.com/assets/colab-badge.svg\" alt=\"Open In Colab\"/></a>"
      ]
    },
    {
      "cell_type": "code",
      "execution_count": null,
      "metadata": {
        "id": "JetcIMFMl4Mh"
      },
      "outputs": [],
      "source": [
        "join() #Outcome of Join function is always string"
      ]
    },
    {
      "cell_type": "code",
      "source": [
        "words = ['Yellow',\"Blue\",\"Red\",\"White\"]"
      ],
      "metadata": {
        "id": "cQ3BCo_VmEiu"
      },
      "execution_count": 1,
      "outputs": []
    },
    {
      "cell_type": "code",
      "source": [
        "print(\"\".join(words))"
      ],
      "metadata": {
        "colab": {
          "base_uri": "https://localhost:8080/"
        },
        "id": "hqVe3AYNmTDv",
        "outputId": "ea47b276-e39e-4982-e67f-83c0c6184184"
      },
      "execution_count": 5,
      "outputs": [
        {
          "output_type": "stream",
          "name": "stdout",
          "text": [
            "YellowBlueRedWhite\n"
          ]
        }
      ]
    },
    {
      "cell_type": "code",
      "source": [
        "print(\"-\".join(words))"
      ],
      "metadata": {
        "colab": {
          "base_uri": "https://localhost:8080/"
        },
        "id": "lirB3niTmd2X",
        "outputId": "b95ba93f-cd09-484c-be74-e796908da367"
      },
      "execution_count": 6,
      "outputs": [
        {
          "output_type": "stream",
          "name": "stdout",
          "text": [
            "Yellow-Blue-Red-White\n"
          ]
        }
      ]
    },
    {
      "cell_type": "code",
      "source": [
        "colors = ['Yellow',\"Blue\",\"Red\",\"White\"]\n",
        "result = \"\".join(colors)# without any space joining the content of\n",
        "print(result)"
      ],
      "metadata": {
        "colab": {
          "base_uri": "https://localhost:8080/"
        },
        "id": "upfZa3H7muvg",
        "outputId": "6a2466a0-22e6-4b4f-fafa-340dcf279ab2"
      },
      "execution_count": 8,
      "outputs": [
        {
          "output_type": "stream",
          "name": "stdout",
          "text": [
            "YellowBlueRedWhite\n"
          ]
        }
      ]
    },
    {
      "cell_type": "code",
      "source": [
        "Mydict = {\"Name\":\"Trisha\", \"Standard\":\"Seventh\",\"Abr\":\"Miss\"}\n",
        "x = \"-\".join(Mydict) #keys will be joined\n",
        "print(x)"
      ],
      "metadata": {
        "colab": {
          "base_uri": "https://localhost:8080/"
        },
        "id": "GMTVBqN7nQdS",
        "outputId": "6930d781-25be-400d-c228-0c066f93bf51"
      },
      "execution_count": 18,
      "outputs": [
        {
          "output_type": "stream",
          "name": "stdout",
          "text": [
            "Name-Standard-Abr\n"
          ]
        }
      ]
    },
    {
      "cell_type": "code",
      "source": [
        "MyTuple1 = ('Yellow',\"Blue\",\"Red\",\"White\")\n",
        "x= \" \".join(sorted(MyTuple1)) # joining with alphabetical manner\n",
        "print(x)"
      ],
      "metadata": {
        "colab": {
          "base_uri": "https://localhost:8080/"
        },
        "id": "OrNagKm0obfk",
        "outputId": "0bea2221-d50b-4b07-e182-041cdf1a65a6"
      },
      "execution_count": 16,
      "outputs": [
        {
          "output_type": "stream",
          "name": "stdout",
          "text": [
            "Blue Red White Yellow\n"
          ]
        }
      ]
    },
    {
      "cell_type": "code",
      "source": [
        "MyTuple2 = ('3Yellow',\"2Blue\",\"1Red\",\"0White\")\n",
        "x= ' '.join(sorted(MyTuple2))# sorting is based on the first digit/letter of word\n",
        "print(x)"
      ],
      "metadata": {
        "colab": {
          "base_uri": "https://localhost:8080/"
        },
        "id": "jw4F5JBrpkO1",
        "outputId": "0876642e-fa6a-45b7-9f11-4078e51bfa83"
      },
      "execution_count": 20,
      "outputs": [
        {
          "output_type": "stream",
          "name": "stdout",
          "text": [
            "0White 1Red 2Blue 3Yellow\n"
          ]
        }
      ]
    },
    {
      "cell_type": "markdown",
      "source": [],
      "metadata": {
        "id": "6tDinzLyol8m"
      }
    },
    {
      "cell_type": "code",
      "source": [],
      "metadata": {
        "id": "YZ6pVp6WqmFG"
      },
      "execution_count": null,
      "outputs": []
    },
    {
      "cell_type": "code",
      "source": [
        "MyTuple3 = ('4545',\"334\",\"11122\",\"012\")\n",
        "x= ' '.join(sorted(MyTuple3))# sorting is based on the first digit/letter of word not the value.\n",
        "print(x)"
      ],
      "metadata": {
        "colab": {
          "base_uri": "https://localhost:8080/"
        },
        "outputId": "ae52daf9-a2f2-4850-d3a3-5b51eabae02b",
        "id": "0fyKtJb9qoLd"
      },
      "execution_count": 23,
      "outputs": [
        {
          "output_type": "stream",
          "name": "stdout",
          "text": [
            "012 11122 334 4545\n"
          ]
        }
      ]
    },
    {
      "cell_type": "code",
      "source": [
        "#sorting of colours as per hue\n",
        "import colorsys\n",
        "\n",
        "def get_hsv(hexrgb):\n",
        "    hexrgb = hexrgb.lstrip()  # Remove the \"#\" if present\n",
        "\n",
        "    for i in range(0, 5, 2):\n",
        "      r, g, b = (int(hexrgb[i:i+2]) *16 )/ 255.0\n",
        "      return colorsys.rgb_to_hsv(r, g, b)\n",
        "\n",
        "# Example list of RGB hex colors\n",
        "color_list = [\"Green\", \"Blue\", \"White\"]\n",
        "\n",
        "# Sort the list by hue\n",
        "color_list.sort(key=get_hsv)\n",
        "\n",
        "print(color_list)"
      ],
      "metadata": {
        "id": "56jjiQX4tM8y"
      },
      "execution_count": null,
      "outputs": []
    },
    {
      "cell_type": "code",
      "source": [
        "employee ={\n",
        "    \"vinayak\":{\"Comapny\":\"IBM\",\"work\":\"Remote\",\"salary\":\"70k\"},\n",
        "    \"Revan\":{\"Comapny\":\"ADB\",\"work\":\"Hybrid\",\"salary\":\"80k\"},\n",
        "    \"Parshuram\":{\"Comapny\":\"WB\",\"work\":\"office\",\"salary\":\"90k\"},\n",
        "}\n",
        "print(employee[\"Revan\"][\"work\"])"
      ],
      "metadata": {
        "colab": {
          "base_uri": "https://localhost:8080/"
        },
        "id": "vQmKMn1w9Gje",
        "outputId": "2c603b80-a1fc-4317-f9ee-f5453ffbdba9"
      },
      "execution_count": 42,
      "outputs": [
        {
          "output_type": "stream",
          "name": "stdout",
          "text": [
            "Hybrid\n"
          ]
        }
      ]
    },
    {
      "cell_type": "code",
      "source": [
        "employee[\"Revan\"][\"work\"]= \"Remote\"\n",
        "employee[\"Parshuram\"][\"salary\"]= \"1lakh\""
      ],
      "metadata": {
        "id": "uYa-Rer0_YTU"
      },
      "execution_count": 45,
      "outputs": []
    },
    {
      "cell_type": "code",
      "source": [
        " employee"
      ],
      "metadata": {
        "colab": {
          "base_uri": "https://localhost:8080/"
        },
        "id": "rNdAyOat_RfA",
        "outputId": "916f6b96-fc37-4975-d841-731435e1a0c2"
      },
      "execution_count": 46,
      "outputs": [
        {
          "output_type": "execute_result",
          "data": {
            "text/plain": [
              "{'vinayak': {'Comapny': 'IBM', 'work': 'Remote', 'salary': '70k'},\n",
              " 'Revan': {'Comapny': 'ADB', 'work': 'Remote', 'salary': '80k'},\n",
              " 'Parshuram': {'Comapny': 'WB', 'work': 'office', 'salary': '1lakh'}}"
            ]
          },
          "metadata": {},
          "execution_count": 46
        }
      ]
    }
  ]
}