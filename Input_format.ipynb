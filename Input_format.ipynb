{
  "nbformat": 4,
  "nbformat_minor": 0,
  "metadata": {
    "colab": {
      "provenance": [],
      "authorship_tag": "ABX9TyPiJLynXSAaLnKaGAhA542A",
      "include_colab_link": true
    },
    "kernelspec": {
      "name": "python3",
      "display_name": "Python 3"
    },
    "language_info": {
      "name": "python"
    }
  },
  "cells": [
    {
      "cell_type": "markdown",
      "metadata": {
        "id": "view-in-github",
        "colab_type": "text"
      },
      "source": [
        "<a href=\"https://colab.research.google.com/github/V-Nayak/New-/blob/main/Input_format.ipynb\" target=\"_parent\"><img src=\"https://colab.research.google.com/assets/colab-badge.svg\" alt=\"Open In Colab\"/></a>"
      ]
    },
    {
      "cell_type": "markdown",
      "source": [
        "Accessing the text file for Data\n",
        "\n",
        "> using built in funtion: open()\n",
        "\n"
      ],
      "metadata": {
        "id": "c9mNEg-RBphL"
      }
    },
    {
      "cell_type": "code",
      "source": [
        "#Open function to open the file \"MyFile1.txt\"\n",
        "# (same directory) in append mode and\n",
        "file1 = open(\"MyFile1.txt\",\"a\")\n",
        "\n",
        "# store its reference in the variable file1\n",
        "# and \"MyFile2.txt\" in D:\\Text in file2\n",
        "file2 = open(r\"D:\\Text\\MyFile2.txt\",\"w+\")"
      ],
      "metadata": {
        "id": "cfTBXukEBwe2"
      },
      "execution_count": 1,
      "outputs": []
    },
    {
      "cell_type": "code",
      "source": [],
      "metadata": {
        "id": "6ahI46snEeY9"
      },
      "execution_count": null,
      "outputs": []
    }
  ]
}