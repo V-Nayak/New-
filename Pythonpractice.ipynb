{
  "nbformat": 4,
  "nbformat_minor": 0,
  "metadata": {
    "colab": {
      "provenance": [],
      "authorship_tag": "ABX9TyOmTxiO6jiDNcb4wF6XHwk/",
      "include_colab_link": true
    },
    "kernelspec": {
      "name": "python3",
      "display_name": "Python 3"
    },
    "language_info": {
      "name": "python"
    }
  },
  "cells": [
    {
      "cell_type": "markdown",
      "metadata": {
        "id": "view-in-github",
        "colab_type": "text"
      },
      "source": [
        "<a href=\"https://colab.research.google.com/github/V-Nayak/New-/blob/main/Pythonpractice.ipynb\" target=\"_parent\"><img src=\"https://colab.research.google.com/assets/colab-badge.svg\" alt=\"Open In Colab\"/></a>"
      ]
    },
    {
      "cell_type": "code",
      "execution_count": 6,
      "metadata": {
        "colab": {
          "base_uri": "https://localhost:8080/"
        },
        "id": "6_4Fb95DHuga",
        "outputId": "2b00d97a-9c04-48a9-cf8c-f827fe853e6e"
      },
      "outputs": [
        {
          "output_type": "stream",
          "name": "stdout",
          "text": [
            "apple,banana,grapes,orange\n",
            "Tomato is not present in fruits\n"
          ]
        }
      ],
      "source": [
        "import pandas as pd\n",
        "import numpy as np\n",
        "\n",
        "fruits = ['apple','banana','orange','grapes']\n",
        "fruits= sorted(fruits)\n",
        "print(','.join(fruits))\n",
        "\n",
        "if'Tomato'in fruits:\n",
        "    print(\"banana is present in fruits\")\n",
        "else:\n",
        "  print(\"Tomato is not present in fruits\")"
      ]
    }
  ]
}