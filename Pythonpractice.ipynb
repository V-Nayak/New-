{
  "nbformat": 4,
  "nbformat_minor": 0,
  "metadata": {
    "colab": {
      "provenance": [],
      "authorship_tag": "ABX9TyN6ZEt1QBVX72jDDL09QO1O",
      "include_colab_link": true
    },
    "kernelspec": {
      "name": "python3",
      "display_name": "Python 3"
    },
    "language_info": {
      "name": "python"
    }
  },
  "cells": [
    {
      "cell_type": "markdown",
      "metadata": {
        "id": "view-in-github",
        "colab_type": "text"
      },
      "source": [
        "<a href=\"https://colab.research.google.com/github/V-Nayak/New-/blob/main/Pythonpractice.ipynb\" target=\"_parent\"><img src=\"https://colab.research.google.com/assets/colab-badge.svg\" alt=\"Open In Colab\"/></a>"
      ]
    },
    {
      "cell_type": "code",
      "execution_count": null,
      "metadata": {
        "colab": {
          "base_uri": "https://localhost:8080/"
        },
        "id": "6_4Fb95DHuga",
        "outputId": "2b00d97a-9c04-48a9-cf8c-f827fe853e6e"
      },
      "outputs": [
        {
          "output_type": "stream",
          "name": "stdout",
          "text": [
            "apple,banana,grapes,orange\n",
            "Tomato is not present in fruits\n"
          ]
        }
      ],
      "source": [
        "import pandas as pd\n",
        "import numpy as np\n",
        "\n",
        "fruits = ['apple','banana','orange','grapes']\n",
        "fruits= sorted(fruits)\n",
        "print(','.join(fruits))\n",
        "\n",
        "if'Tomato'in fruits:\n",
        "    print(\"banana is present in fruits\")\n",
        "else:\n",
        "  print(\"Tomato is not present in fruits\")"
      ]
    },
    {
      "cell_type": "code",
      "source": [
        "if 5 == 10 or 4 == 4:\n",
        "    print(\"At least one of the statement is true\")"
      ],
      "metadata": {
        "colab": {
          "base_uri": "https://localhost:8080/"
        },
        "id": "ZMqJTTdHfioe",
        "outputId": "cee19314-2ef9-49d6-fb52-d8f87d3d5f80"
      },
      "execution_count": null,
      "outputs": [
        {
          "output_type": "stream",
          "name": "stdout",
          "text": [
            "At least one of the statement is true\n"
          ]
        }
      ]
    },
    {
      "cell_type": "code",
      "source": [
        " a= input(\"Enter the value for a: \")\n",
        "b= input(\"Enter the value for b: \")\n",
        "c= input(\"Enter the value for c:  \")\n",
        "\n",
        "if (a>=b) and (a>=c):\n",
        "    print(\"a is the largest\")\n",
        "elif(b>=a) and (b>=c):\n",
        "    print(\"b is the largest\")\n",
        "else:\n",
        "  print(\"c is the largest\")"
      ],
      "metadata": {
        "colab": {
          "base_uri": "https://localhost:8080/"
        },
        "id": "279N5xwlhr7T",
        "outputId": "73363fdd-86ec-44aa-ed7f-347477410921"
      },
      "execution_count": null,
      "outputs": [
        {
          "output_type": "stream",
          "name": "stdout",
          "text": [
            "Enter the value for a: 35\n",
            "Enter the value for b: 45\n",
            "Enter the value for c: 35\n",
            "b is the largest\n"
          ]
        }
      ]
    },
    {
      "cell_type": "code",
      "source": [
        "#Tuple\n",
        "t=(1,2,3,3)\n",
        "print(type(t))\n",
        "print(\"3 is printed\",t.count(3),\"times starting from index location\", t.index(3) )\n",
        "#print(t.index(3))"
      ],
      "metadata": {
        "colab": {
          "base_uri": "https://localhost:8080/"
        },
        "id": "-sDez5jUSqpR",
        "outputId": "c26c5caf-23ba-42e6-afaa-401d2d5aea43"
      },
      "execution_count": 22,
      "outputs": [
        {
          "output_type": "stream",
          "name": "stdout",
          "text": [
            "<class 'tuple'>\n",
            "3 is printed 2 times starting from index location 2\n"
          ]
        }
      ]
    },
    {
      "cell_type": "code",
      "source": [
        "#set- unordered collection of unique elements\n",
        "myset=set()\n",
        "myset.add(1)\n",
        "myset.add(2)\n",
        "myset.add(2)# this value will not be added\n",
        "mylist = [1,2,2,3,4,4,1,1,2,2,3,3] # here as well iot6 will not accept the rpetation\n",
        "set(mylist) # so it take the\n"
      ],
      "metadata": {
        "colab": {
          "base_uri": "https://localhost:8080/"
        },
        "id": "P6napVAPV4rY",
        "outputId": "7044ebbf-e3b4-45cb-c432-9a49b0213df6"
      },
      "execution_count": 30,
      "outputs": [
        {
          "output_type": "execute_result",
          "data": {
            "text/plain": [
              "{1, 2, 3, 4}"
            ]
          },
          "metadata": {},
          "execution_count": 30
        }
      ]
    },
    {
      "cell_type": "code",
      "source": [
        "mystring = (\"Mississippi\")\n",
        "set(mystring)"
      ],
      "metadata": {
        "colab": {
          "base_uri": "https://localhost:8080/"
        },
        "id": "X9zCG_sMX0q9",
        "outputId": "1a58d7be-38c6-4ab6-9c03-43f999e8aed3"
      },
      "execution_count": 31,
      "outputs": [
        {
          "output_type": "execute_result",
          "data": {
            "text/plain": [
              "{'M', 'i', 'p', 's'}"
            ]
          },
          "metadata": {},
          "execution_count": 31
        }
      ]
    },
    {
      "cell_type": "markdown",
      "source": [],
      "metadata": {
        "id": "xRjmyCB9WDq3"
      }
    },
    {
      "cell_type": "code",
      "source": [],
      "metadata": {
        "id": "Q5hNvdE_YO24"
      },
      "execution_count": null,
      "outputs": []
    }
  ]
}